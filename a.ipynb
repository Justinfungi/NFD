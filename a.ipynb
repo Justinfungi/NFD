{
 "cells": [
  {
   "cell_type": "code",
   "execution_count": 18,
   "metadata": {},
   "outputs": [
    {
     "name": "stdout",
     "output_type": "stream",
     "text": [
      "Merged image saved to: Examples/merged_image.png\n"
     ]
    }
   ],
   "source": [
    "import os\n",
    "import cv2\n",
    "import numpy as np\n",
    "\n",
    "# Set the directory containing the images\n",
    "image_dir = 'Examples'\n",
    "\n",
    "# Get a list of all image files in the directory\n",
    "image_files = [f for f in os.listdir(image_dir) if f.endswith('.png') or f.endswith('.jpg')]\n",
    "image_files = sorted(image_files)\n",
    "# Load the first 8 images into a list\n",
    "images = []\n",
    "\n",
    "for name in [\"avg\",\"first32\".\"second32\",\"thrid32\"]\n",
    "for i in range(0, len(image_files)):\n",
    "    image_path = os.path.join(image_dir, image_files[i])\n",
    "    if name in image_files[i]:\n",
    "        image = cv2.imread(image_path)\n",
    "        images.append(image)\n",
    "\n",
    "    # Create a 1x8 merged image\n",
    "    if images:\n",
    "        merged_image = np.hstack(images)\n",
    "\n",
    "        # Save the merged image\n",
    "        save_path = os.path.join(image_dir, f'merged_image_{name}.png')\n",
    "        cv2.imwrite(save_path, merged_image)\n",
    "        print(f\"Merged image saved to: {save_path}\")\n",
    "    else:\n",
    "        print(\"No image files found in the directory.\")"
   ]
  },
  {
   "cell_type": "code",
   "execution_count": 10,
   "metadata": {},
   "outputs": [
    {
     "name": "stdout",
     "output_type": "stream",
     "text": [
      "['0_0.png', '0_1.png', '0_10.png', '0_11.png', '0_12.png', '0_13.png', '0_14.png', '0_15.png', '0_16.png', '0_17.png', '0_18.png', '0_19.png', '0_2.png', '0_20.png', '0_21.png', '0_22.png', '0_23.png', '0_24.png', '0_25.png', '0_26.png', '0_27.png', '0_28.png', '0_29.png', '0_3.png', '0_30.png', '0_31.png', '0_4.png', '0_5.png', '0_6.png', '0_7.png', '0_8.png', '0_9.png', '1_0.png', '1_1.png', '1_10.png', '1_11.png', '1_12.png', '1_13.png', '1_14.png', '1_15.png', '1_16.png', '1_17.png', '1_18.png', '1_19.png', '1_2.png', '1_20.png', '1_21.png', '1_22.png', '1_23.png', '1_24.png', '1_25.png', '1_26.png', '1_27.png', '1_28.png', '1_29.png', '1_3.png', '1_30.png', '1_31.png', '1_4.png', '1_5.png', '1_6.png', '1_7.png', '1_8.png', '1_9.png', '2_0.png', '2_1.png', '2_10.png', '2_11.png', '2_12.png', '2_13.png', '2_14.png', '2_15.png', '2_16.png', '2_17.png', '2_18.png', '2_19.png', '2_2.png', '2_20.png', '2_21.png', '2_22.png', '2_23.png', '2_24.png', '2_25.png', '2_26.png', '2_27.png', '2_28.png', '2_29.png', '2_3.png', '2_30.png', '2_31.png', '2_4.png', '2_5.png', '2_6.png', '2_7.png', '2_8.png', '2_9.png', '3_0.png', '3_1.png', '3_10.png', '3_11.png', '3_12.png', '3_13.png', '3_14.png', '3_15.png', '3_16.png', '3_17.png', '3_18.png', '3_19.png', '3_2.png', '3_20.png', '3_21.png', '3_22.png', '3_23.png', '3_24.png', '3_25.png', '3_26.png', '3_27.png', '3_28.png', '3_29.png', '3_3.png', '3_30.png', '3_31.png', '3_4.png', '3_5.png', '3_6.png', '3_7.png', '3_8.png', '3_9.png', '4_0.png', '4_1.png', '4_10.png', '4_11.png', '4_12.png', '4_13.png', '4_14.png', '4_15.png', '4_16.png', '4_17.png', '4_18.png', '4_19.png', '4_2.png', '4_20.png', '4_21.png', '4_22.png', '4_23.png', '4_24.png', '4_25.png', '4_26.png', '4_27.png', '4_28.png', '4_29.png', '4_3.png', '4_30.png', '4_31.png', '4_4.png', '4_5.png', '4_6.png', '4_7.png', '4_8.png', '4_9.png', '5_0.png', '5_1.png', '5_10.png', '5_11.png', '5_12.png', '5_13.png', '5_14.png', '5_15.png', '5_16.png', '5_17.png', '5_18.png', '5_19.png', '5_2.png', '5_20.png', '5_21.png', '5_22.png', '5_23.png', '5_24.png', '5_25.png', '5_26.png', '5_27.png', '5_28.png', '5_29.png', '5_3.png', '5_30.png', '5_31.png', '5_4.png', '5_5.png', '5_6.png', '5_7.png', '5_8.png', '5_9.png', '6_0.png', '6_1.png', '6_10.png', '6_11.png', '6_12.png', '6_13.png', '6_14.png', '6_15.png', '6_16.png', '6_17.png', '6_18.png', '6_19.png', '6_2.png', '6_20.png', '6_21.png', '6_22.png', '6_23.png', '6_24.png', '6_25.png', '6_26.png', '6_27.png', '6_28.png', '6_29.png', '6_3.png', '6_30.png', '6_31.png', '6_4.png', '6_5.png', '6_6.png', '6_7.png', '6_8.png', '6_9.png', '7_0.png', '7_1.png', '7_10.png', '7_11.png', '7_12.png', '7_13.png', '7_14.png', '7_15.png', '7_16.png', '7_17.png', '7_18.png', '7_19.png', '7_2.png', '7_20.png', '7_21.png', '7_22.png', '7_23.png', '7_24.png', '7_25.png', '7_26.png', '7_27.png', '7_28.png', '7_29.png', '7_3.png', '7_30.png', '7_31.png', '7_4.png', '7_5.png', '7_6.png', '7_7.png', '7_8.png', '7_9.png', 'avg_0.png', 'avg_1.png', 'avg_2.png', 'avg_3.png', 'avg_4.png', 'avg_5.png', 'avg_6.png', 'avg_7.png', 'first32_0.png', 'first32_1.png', 'first32_2.png', 'first32_3.png', 'first32_4.png', 'first32_5.png', 'first32_6.png', 'first32_7.png', 'first3_0.png', 'first3_1.png', 'first3_2.png', 'first3_3.png', 'first3_4.png', 'first3_5.png', 'first3_6.png', 'first3_7.png', 'merged_image.png']\n",
      "Merged image saved to: Examples/merged_image.png\n"
     ]
    }
   ],
   "source": [
    "import os\n",
    "import cv2\n",
    "import numpy as np\n",
    "\n",
    "# Set the directory containing the images\n",
    "image_dir = 'Examples'\n",
    "\n",
    "# Get a list of all image files in the directory\n",
    "image_files = [f for f in os.listdir(image_dir) if f.endswith('.png') or f.endswith('.jpg')]\n",
    "image_files = sorted(image_files)\n",
    "print(image_files)\n",
    "# Load the first 32 images into a list\n",
    "images = []\n",
    "for i in range(min(32, len(image_files))):\n",
    "    image_path = os.path.join(image_dir, image_files[i])\n",
    "    image = cv2.imread(image_path)\n",
    "    images.append(image)\n",
    "\n",
    "# Create a 4x8 merged image\n",
    "if images:\n",
    "    # Reshape the list of images into a 4x8 grid\n",
    "    grid_images = [images[i:i+8] for i in range(0, len(images), 8)]\n",
    "\n",
    "    # Create the merged image\n",
    "    merged_image = np.vstack([np.hstack(row) for row in grid_images])\n",
    "\n",
    "    # Save the merged image\n",
    "    save_path = os.path.join(image_dir, 'merged_image.png')\n",
    "    cv2.imwrite(save_path, merged_image)\n",
    "    print(f\"Merged image saved to: {save_path}\")\n",
    "else:\n",
    "    print(\"No image files found in the directory.\")"
   ]
  }
 ],
 "metadata": {
  "kernelspec": {
   "display_name": "Python 3 (ipykernel)",
   "language": "python",
   "name": "python3"
  },
  "language_info": {
   "codemirror_mode": {
    "name": "ipython",
    "version": 3
   },
   "file_extension": ".py",
   "mimetype": "text/x-python",
   "name": "python",
   "nbconvert_exporter": "python",
   "pygments_lexer": "ipython3",
   "version": "3.11.5"
  }
 },
 "nbformat": 4,
 "nbformat_minor": 2
}
